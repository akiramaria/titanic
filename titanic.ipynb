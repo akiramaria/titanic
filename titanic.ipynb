{
 "cells": [
  {
   "cell_type": "code",
   "execution_count": 401,
   "metadata": {},
   "outputs": [],
   "source": [
    "import pandas as pd\n",
    "import numpy as np\n",
    "from random import randint\n",
    "\n",
    "## acquire data\n",
    "train_df = pd.read_csv('train.csv')\n",
    "gender_df = pd.read_csv('gender_submission.csv')\n",
    "test_df = pd.read_csv('test.csv')\n",
    "\n",
    "#print(train_df.info())\n",
    "#print(test_df.info())\n",
    "#print(gender_df.info())"
   ]
  },
  {
   "cell_type": "code",
   "execution_count": 402,
   "metadata": {},
   "outputs": [],
   "source": [
    "## check what data is impactful\n",
    "\n",
    "## try Embarked\n",
    "## there are some Embarked values missing, add with the most frequent\n",
    "embarked_fill = train_df['Embarked'].mode()\n",
    "#print(embarked_fill)\n",
    "\n",
    "embarked_null = train_df['Embarked'].isnull().sum()\n",
    "\n",
    "for b in range (0,embarked_null):\n",
    "    train_df['Embarked'].fillna(embarked_null, inplace = True)\n",
    "\n",
    "train = (train_df[['Embarked','Survived']].groupby([\"Embarked\"]).mean())\n",
    "\n",
    "#print(train_df.info())\n",
    "#print(train)"
   ]
  },
  {
   "cell_type": "code",
   "execution_count": 403,
   "metadata": {},
   "outputs": [],
   "source": [
    "## try Pclass\n",
    "train = (train_df[['Pclass','Survived']].groupby([\"Pclass\"]).mean())\n",
    "## findings to be impactful: Pclass"
   ]
  },
  {
   "cell_type": "code",
   "execution_count": 404,
   "metadata": {},
   "outputs": [],
   "source": [
    "## try Gender\n",
    "train = (train_df[['Sex','Survived']].groupby([\"Sex\"]).mean())\n",
    "## findings to be impactful: Pclass, Sex, Embarked"
   ]
  },
  {
   "cell_type": "code",
   "execution_count": 405,
   "metadata": {},
   "outputs": [
    {
     "name": "stdout",
     "output_type": "stream",
     "text": [
      "<class 'pandas.core.frame.DataFrame'>\n",
      "RangeIndex: 891 entries, 0 to 890\n",
      "Data columns (total 13 columns):\n",
      "PassengerId    891 non-null int64\n",
      "Survived       891 non-null int64\n",
      "Pclass         891 non-null int64\n",
      "Name           891 non-null object\n",
      "Sex            891 non-null object\n",
      "Age            891 non-null float64\n",
      "SibSp          891 non-null int64\n",
      "Parch          891 non-null int64\n",
      "Ticket         891 non-null object\n",
      "Fare           891 non-null float64\n",
      "Cabin          204 non-null object\n",
      "Embarked       891 non-null object\n",
      "age_map        891 non-null category\n",
      "dtypes: category(1), float64(2), int64(5), object(5)\n",
      "memory usage: 84.7+ KB\n",
      "None\n",
      "<class 'pandas.core.frame.DataFrame'>\n",
      "RangeIndex: 418 entries, 0 to 417\n",
      "Data columns (total 12 columns):\n",
      "PassengerId    418 non-null int64\n",
      "Pclass         418 non-null int64\n",
      "Name           418 non-null object\n",
      "Sex            418 non-null object\n",
      "Age            418 non-null float64\n",
      "SibSp          418 non-null int64\n",
      "Parch          418 non-null int64\n",
      "Ticket         418 non-null object\n",
      "Fare           417 non-null float64\n",
      "Cabin          91 non-null object\n",
      "Embarked       418 non-null object\n",
      "age_map        418 non-null category\n",
      "dtypes: category(1), float64(2), int64(4), object(5)\n",
      "memory usage: 36.6+ KB\n",
      "None\n"
     ]
    }
   ],
   "source": [
    "## try Age\n",
    "\n",
    "## age has several data missing, need to fill\n",
    "## null age + mean age + std deviation age // or use interpolate()\n",
    "not_null_age = train_df['Age'].count()\n",
    "null_age = train_df['Age'].isnull().sum()\n",
    "\n",
    "std_age = train_df['Age'].std()\n",
    "avg_age = train_df['Age'].mean()\n",
    "summation = int(avg_age+std_age)\n",
    "diff = int(avg_age-std_age)\n",
    "\n",
    "for a in range(0,null_age):\n",
    "    rand_age = randint(diff,summation)\n",
    "    #rand_age = train_df['Age'].interpolate()\n",
    "    train_df['Age'].fillna(rand_age,inplace = True)\n",
    "    test_df['Age'].fillna(rand_age,inplace=True)\n",
    "\n",
    "   \n",
    "train_df['age_map'] = pd.cut(train_df['Age'],4,labels= [3,2,1,0])\n",
    "\n",
    "test_df['age_map'] = pd.cut(test_df['Age'],4,labels=[3,2,1,0])\n",
    "train = (train_df[['Age','Survived']].groupby([cat_age]).mean()) \n",
    "print(train_df.info())\n",
    "print(test_df.info())"
   ]
  },
  {
   "cell_type": "code",
   "execution_count": 406,
   "metadata": {},
   "outputs": [
    {
     "name": "stdout",
     "output_type": "stream",
     "text": [
      "   PassengerId  Pclass  Sex Age  Embarked\n",
      "0          892       3    0   2         1\n",
      "1          893       3    1   1         0\n",
      "2          894       2    0   0         1\n",
      "3          895       3    0   2         0\n",
      "4          896       3    1   2         0\n"
     ]
    }
   ],
   "source": [
    "## findings to be impactful: Pclass, Gender, Embarked, Age\n",
    "# now mapping the data. turn everything to numbers\n",
    "train_df['Sex'] = train_df['Sex'].replace({'female': 1, 'male': 0})\n",
    "test_df['Sex'] = test_df['Sex'].replace({'female':1,'male':0})\n",
    "train_df['Embarked'] = train_df['Embarked'].replace({'S':0,'Q':1,'C':2})\n",
    "test_df['Embarked'] = test_df['Embarked'].replace({'S':0,'Q':1,'C':2})\n",
    "#cat_age = age map\n",
    "train_df['Age']=train_df['age_map']\n",
    "test_df['Age'] = test_df['age_map']\n",
    "\n",
    "#list of columns to drop; \n",
    "drop_columns = ['Name','SibSp', 'Parch', 'Fare', 'Cabin', 'Ticket']\n",
    "train_df = train_df.drop(drop_columns,axis=1)\n",
    "train_df = train_df.drop('PassengerId',axis=1)\n",
    "train_df = train_df.drop('age_map',axis=1)\n",
    "test_df = test_df.drop(drop_columns,axis=1)\n",
    "test_df = test_df.drop('age_map',axis=1)\n",
    "print(test_df.head(5))\n"
   ]
  },
  {
   "cell_type": "code",
   "execution_count": 407,
   "metadata": {},
   "outputs": [
    {
     "name": "stdout",
     "output_type": "stream",
     "text": [
      "<class 'pandas.core.frame.DataFrame'>\n",
      "RangeIndex: 418 entries, 0 to 417\n",
      "Data columns (total 4 columns):\n",
      "Pclass      418 non-null int64\n",
      "Sex         418 non-null int64\n",
      "Age         418 non-null category\n",
      "Embarked    418 non-null int64\n",
      "dtypes: category(1), int64(3)\n",
      "memory usage: 10.5 KB\n",
      "None\n"
     ]
    }
   ],
   "source": [
    "train_X = train_df.drop('Survived',axis=1)\n",
    "train_Y = train_df['Survived']\n",
    "test_X = test_df.drop(\"PassengerId\", axis=1)\n",
    "print(test_X.info())"
   ]
  },
  {
   "cell_type": "code",
   "execution_count": 408,
   "metadata": {},
   "outputs": [
    {
     "name": "stdout",
     "output_type": "stream",
     "text": [
      "Accuracy:  81.59\n"
     ]
    }
   ],
   "source": [
    "from sklearn.tree import DecisionTreeClassifier\n",
    "\n",
    "decision_tree = DecisionTreeClassifier()\n",
    "decision_tree.fit(train_X,train_Y)\n",
    "pred_Y = decision_tree.predict(test_X)\n",
    "accuracy = round(decision_tree.score(train_X,train_Y)*100,2)\n",
    "print(\"Accuracy: \",accuracy)"
   ]
  },
  {
   "cell_type": "code",
   "execution_count": null,
   "metadata": {},
   "outputs": [],
   "source": []
  }
 ],
 "metadata": {
  "kernelspec": {
   "display_name": "Python 3",
   "language": "python",
   "name": "python3"
  },
  "language_info": {
   "codemirror_mode": {
    "name": "ipython",
    "version": 3
   },
   "file_extension": ".py",
   "mimetype": "text/x-python",
   "name": "python",
   "nbconvert_exporter": "python",
   "pygments_lexer": "ipython3",
   "version": "3.7.3"
  }
 },
 "nbformat": 4,
 "nbformat_minor": 2
}
