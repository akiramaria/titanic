{
 "cells": [
  {
   "cell_type": "code",
   "execution_count": 120,
   "metadata": {},
   "outputs": [
    {
     "name": "stdout",
     "output_type": "stream",
     "text": [
      "   PassengerId  Survived  Pclass  \\\n",
      "0            1         0       3   \n",
      "1            2         1       1   \n",
      "2            3         1       3   \n",
      "3            4         1       1   \n",
      "4            5         0       3   \n",
      "\n",
      "                                                Name     Sex   Age  SibSp  \\\n",
      "0                            Braund, Mr. Owen Harris    male  22.0      1   \n",
      "1  Cumings, Mrs. John Bradley (Florence Briggs Th...  female  38.0      1   \n",
      "2                             Heikkinen, Miss. Laina  female  26.0      0   \n",
      "3       Futrelle, Mrs. Jacques Heath (Lily May Peel)  female  35.0      1   \n",
      "4                           Allen, Mr. William Henry    male  35.0      0   \n",
      "\n",
      "   Parch            Ticket     Fare Cabin Embarked  \n",
      "0      0         A/5 21171   7.2500   NaN        S  \n",
      "1      0          PC 17599  71.2833   C85        C  \n",
      "2      0  STON/O2. 3101282   7.9250   NaN        S  \n",
      "3      0            113803  53.1000  C123        S  \n",
      "4      0            373450   8.0500   NaN        S  \n"
     ]
    }
   ],
   "source": [
    "import pandas as pd\n",
    "import numpy as np\n",
    "from random import randint\n",
    "\n",
    "## acquire data\n",
    "train_df = pd.read_csv('train.csv')\n",
    "gender_df = pd.read_csv('gender_submission.csv')\n",
    "test_df = pd.read_csv('test.csv')\n",
    "\n",
    "print(train_df.head())\n",
    "#print(test_df.info())\n",
    "#print(gender_df.info())"
   ]
  },
  {
   "cell_type": "code",
   "execution_count": 121,
   "metadata": {},
   "outputs": [],
   "source": [
    "## check what data is impactful\n",
    "\n",
    "## try Embarked\n",
    "## there are some Embarked values missing, add with the most frequent\n",
    "embarked_fill = train_df['Embarked'].mode()\n",
    "#print(embarked_fill)\n",
    "\n",
    "embarked_null = train_df['Embarked'].isnull().sum()\n",
    "\n",
    "for b in range (0,embarked_null):\n",
    "    train_df['Embarked'].fillna(embarked_null, inplace = True)\n",
    "\n",
    "train = (train_df[['Embarked','Survived']].groupby([\"Embarked\"]).mean())\n",
    "\n",
    "#print(train_df.info())\n",
    "#print(train)"
   ]
  },
  {
   "cell_type": "code",
   "execution_count": 122,
   "metadata": {},
   "outputs": [],
   "source": [
    "## try Pclass\n",
    "train = (train_df[['Pclass','Survived']].groupby([\"Pclass\"]).mean())\n",
    "## findings to be impactful: Pclass"
   ]
  },
  {
   "cell_type": "code",
   "execution_count": 123,
   "metadata": {},
   "outputs": [],
   "source": [
    "## try Gender\n",
    "train = (train_df[['Sex','Survived']].groupby([\"Sex\"]).mean())\n",
    "## findings to be impactful: Pclass, Sex, Embarked"
   ]
  },
  {
   "cell_type": "code",
   "execution_count": 124,
   "metadata": {},
   "outputs": [
    {
     "name": "stdout",
     "output_type": "stream",
     "text": [
      "   PassengerId  Survived  Pclass  \\\n",
      "0            1         0       3   \n",
      "1            2         1       1   \n",
      "2            3         1       3   \n",
      "3            4         1       1   \n",
      "4            5         0       3   \n",
      "\n",
      "                                                Name     Sex   Age  SibSp  \\\n",
      "0                            Braund, Mr. Owen Harris    male  22.0      1   \n",
      "1  Cumings, Mrs. John Bradley (Florence Briggs Th...  female  38.0      1   \n",
      "2                             Heikkinen, Miss. Laina  female  26.0      0   \n",
      "3       Futrelle, Mrs. Jacques Heath (Lily May Peel)  female  35.0      1   \n",
      "4                           Allen, Mr. William Henry    male  35.0      0   \n",
      "\n",
      "   Parch            Ticket     Fare Cabin Embarked age_map  \n",
      "0      0         A/5 21171   7.2500   NaN        S       2  \n",
      "1      0          PC 17599  71.2833   C85        C       2  \n",
      "2      0  STON/O2. 3101282   7.9250   NaN        S       2  \n",
      "3      0            113803  53.1000  C123        S       2  \n",
      "4      0            373450   8.0500   NaN        S       2  \n"
     ]
    }
   ],
   "source": [
    "## try Age\n",
    "\n",
    "## age has several data missing, need to fill\n",
    "## null age + mean age + std deviation age // or use interpolate()\n",
    "not_null_age = train_df['Age'].count()\n",
    "null_age = train_df['Age'].isnull().sum()\n",
    "\n",
    "std_age = train_df['Age'].std()\n",
    "avg_age = train_df['Age'].mean()\n",
    "summation = int(avg_age+std_age)\n",
    "diff = int(avg_age-std_age)\n",
    "\n",
    "for a in range(0,null_age):\n",
    "    rand_age = randint(diff,summation)\n",
    "    #rand_age = train_df['Age'].interpolate()\n",
    "    train_df['Age'].fillna(rand_age,inplace = True)\n",
    "    test_df['Age'].fillna(rand_age,inplace=True)\n",
    "\n",
    "   \n",
    "train_df['age_map'] = pd.cut(train_df['Age'],4,labels= [3,2,1,0])\n",
    "cat_age = train_df['age_map']\n",
    "test_df['age_map'] = pd.cut(test_df['Age'],4,labels=[3,2,1,0])\n",
    "train = (train_df[['Age','Survived']].groupby([cat_age]).mean()) \n",
    "#print(train_df.info())\n",
    "#print(test_df.info())\n",
    "print(train_df.head(5))"
   ]
  },
  {
   "cell_type": "code",
   "execution_count": 125,
   "metadata": {},
   "outputs": [],
   "source": [
    "#FARE\n",
    "# FARE missing 1 data in test_df, so add one with the most frequent value\n",
    "\n",
    "fare_frequent = test_df['Fare'].mean(skipna = True)\n",
    "\n",
    "test_df['Fare'].fillna(0,inplace = True) # Accuracy:  82.38\n",
    "#test_df['Fare'].fillna(fare_frequent,inplace = True) # Accuracy:  82.04\n",
    "\n",
    "test_df['Fare'] = pd.cut(test_df['Fare'],4,  labels=[0,1,2,3])\n",
    "train_df['Fare'] = pd.cut(train_df['Fare'],4, labels=[0,1,2,3])\n",
    "\n",
    "#print(test_df.info())"
   ]
  },
  {
   "cell_type": "code",
   "execution_count": 126,
   "metadata": {},
   "outputs": [
    {
     "name": "stderr",
     "output_type": "stream",
     "text": [
      "C:\\Users\\Dell\\Anaconda3\\lib\\site-packages\\pandas\\core\\indexing.py:190: SettingWithCopyWarning: \n",
      "A value is trying to be set on a copy of a slice from a DataFrame\n",
      "\n",
      "See the caveats in the documentation: http://pandas.pydata.org/pandas-docs/stable/indexing.html#indexing-view-versus-copy\n",
      "  self._setitem_with_indexer(indexer, value)\n"
     ]
    },
    {
     "name": "stdout",
     "output_type": "stream",
     "text": [
      "   PassengerId  Survived  Pclass  \\\n",
      "0            1         0       3   \n",
      "1            2         1       1   \n",
      "2            3         1       3   \n",
      "3            4         1       1   \n",
      "4            5         0       3   \n",
      "\n",
      "                                                Name     Sex   Age  SibSp  \\\n",
      "0                            Braund, Mr. Owen Harris    male  22.0      1   \n",
      "1  Cumings, Mrs. John Bradley (Florence Briggs Th...  female  38.0      1   \n",
      "2                             Heikkinen, Miss. Laina  female  26.0      0   \n",
      "3       Futrelle, Mrs. Jacques Heath (Lily May Peel)  female  35.0      1   \n",
      "4                           Allen, Mr. William Henry    male  35.0      0   \n",
      "\n",
      "   Parch            Ticket Fare Cabin Embarked age_map  number_of_family  \n",
      "0      0         A/5 21171    0   NaN        S       2                 0  \n",
      "1      0          PC 17599    0   C85        C       2                 0  \n",
      "2      0  STON/O2. 3101282    0   NaN        S       2                 1  \n",
      "3      0            113803    0  C123        S       2                 0  \n",
      "4      0            373450    0   NaN        S       2                 1  \n"
     ]
    }
   ],
   "source": [
    "# IF THE PERSON IS ALONE (without SibSp and Parch)\n",
    "train_df['number_of_family'] = train_df['SibSp'] + train_df['Parch'] + 1\n",
    "test_df['number_of_family'] = test_df['SibSp'] + train_df['Parch'] + 1\n",
    "\n",
    "train_df['number_of_family'].loc[train_df['number_of_family']==1] = 1\n",
    "train_df['number_of_family'].loc[train_df['number_of_family']>1]  = 0\n",
    "test_df['number_of_family'].loc[test_df['number_of_family']==1] = 1\n",
    "test_df['number_of_family'].loc[test_df['number_of_family']>1]  = 0\n",
    "\n",
    "# train = (train_df[['number_of_family','Survived']].groupby('number_of_family', as_index=False).mean())\n",
    "print(train_df.head(5))\n"
   ]
  },
  {
   "cell_type": "code",
   "execution_count": 127,
   "metadata": {},
   "outputs": [],
   "source": [
    "## findings to be impactful: Pclass, Gender, Embarked, Age, Fare\n",
    "# now mapping the data. turn everything to numbers\n",
    "train_df['Sex'] = train_df['Sex'].replace({'female': 1, 'male': 0})\n",
    "test_df['Sex'] = test_df['Sex'].replace({'female':1,'male':0})\n",
    "train_df['Embarked'] = train_df['Embarked'].replace({'S':0,'Q':1,'C':2})\n",
    "test_df['Embarked'] = test_df['Embarked'].replace({'S':0,'Q':1,'C':2})\n",
    "#cat_age = age map\n",
    "train_df['Age']=train_df['age_map']\n",
    "test_df['Age'] = test_df['age_map']"
   ]
  },
  {
   "cell_type": "code",
   "execution_count": 128,
   "metadata": {},
   "outputs": [
    {
     "name": "stdout",
     "output_type": "stream",
     "text": [
      "   PassengerId  Pclass  Sex Age  Embarked  number_of_family\n",
      "0          892       3    0   2         1               1.0\n",
      "1          893       3    1   1         0               0.0\n",
      "2          894       2    0   0         1               1.0\n",
      "3          895       3    0   2         0               1.0\n",
      "4          896       3    1   2         0               0.0\n"
     ]
    }
   ],
   "source": [
    "#list of columns to drop; \n",
    "drop_columns = ['Name','SibSp', 'Parch', 'Cabin', 'Ticket','Fare']\n",
    "\n",
    "train_df = train_df.drop(drop_columns,axis=1)\n",
    "train_df = train_df.drop('PassengerId',axis=1)\n",
    "train_df = train_df.drop('age_map',axis=1)\n",
    "\n",
    "test_df = test_df.drop(drop_columns,axis=1)\n",
    "test_df = test_df.drop('age_map',axis=1)\n",
    "print(test_df.head(5))\n"
   ]
  },
  {
   "cell_type": "code",
   "execution_count": 129,
   "metadata": {},
   "outputs": [
    {
     "name": "stdout",
     "output_type": "stream",
     "text": [
      "   Pclass  Sex Age  Embarked  number_of_family\n",
      "0       3    0   2         1               1.0\n",
      "1       3    1   1         0               0.0\n",
      "2       2    0   0         1               1.0\n",
      "3       3    0   2         0               1.0\n",
      "4       3    1   2         0               0.0\n"
     ]
    }
   ],
   "source": [
    "train_X = train_df.drop('Survived',axis=1)\n",
    "train_Y = train_df['Survived']\n",
    "test_X = test_df.drop(\"PassengerId\", axis=1).copy()\n",
    "print(test_X.head(5))"
   ]
  },
  {
   "cell_type": "code",
   "execution_count": 130,
   "metadata": {},
   "outputs": [
    {
     "name": "stdout",
     "output_type": "stream",
     "text": [
      "Train Accuracy:  83.16\n"
     ]
    }
   ],
   "source": [
    "from sklearn.tree import DecisionTreeClassifier\n",
    "\n",
    "decision_tree = DecisionTreeClassifier()\n",
    "decision_tree.fit(train_X,train_Y)\n",
    "pred_Y = decision_tree.predict(test_X)\n",
    "accuracy = round(decision_tree.score(train_X,train_Y)*100,2)\n",
    "print(\"Train Accuracy: \",accuracy)"
   ]
  },
  {
   "cell_type": "code",
   "execution_count": null,
   "metadata": {},
   "outputs": [],
   "source": [
    "# CREATE CSV with results\n",
    "submission = pd.DataFrame({\"PID\": test_df[\"PassengerId\"],\"Survived\": pred_Y})\n",
    "submission.to_csv('submission.csv')"
   ]
  }
 ],
 "metadata": {
  "kernelspec": {
   "display_name": "Python 3",
   "language": "python",
   "name": "python3"
  },
  "language_info": {
   "codemirror_mode": {
    "name": "ipython",
    "version": 3
   },
   "file_extension": ".py",
   "mimetype": "text/x-python",
   "name": "python",
   "nbconvert_exporter": "python",
   "pygments_lexer": "ipython3",
   "version": "3.7.3"
  }
 },
 "nbformat": 4,
 "nbformat_minor": 4
}
